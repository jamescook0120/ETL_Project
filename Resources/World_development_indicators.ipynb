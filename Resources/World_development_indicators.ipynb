{
 "cells": [
  {
   "cell_type": "code",
   "execution_count": null,
   "id": "sophisticated-bathroom",
   "metadata": {},
   "outputs": [],
   "source": [
    "import pandas as pd\n",
    "from sqlalchemy import create_engine\n",
    "import psycopg2"
   ]
  },
  {
   "cell_type": "code",
   "execution_count": null,
   "id": "substantial-ultimate",
   "metadata": {
    "scrolled": false
   },
   "outputs": [],
   "source": [
    "csv= '../Resources/world_development_indicators.csv'\n",
    "World_dev= pd.read_csv(csv)\n",
    "World_dev.head()"
   ]
  },
  {
   "cell_type": "code",
   "execution_count": null,
   "id": "based-vegetation",
   "metadata": {},
   "outputs": [],
   "source": [
    "World_dev= World_dev[['CountryCode','TableName','CurrencyUnit','Region','IncomeGroup']]\n",
    "World_dev.head()"
   ]
  },
  {
   "cell_type": "code",
   "execution_count": null,
   "id": "early-correspondence",
   "metadata": {
    "scrolled": false
   },
   "outputs": [],
   "source": [
    "World_dev= World_dev.rename(columns={'TableName': 'CountryName', 'IncomeGroup': 'Developed_IncomeGroup'})"
   ]
  },
  {
   "cell_type": "code",
   "execution_count": null,
   "id": "naval-rolling",
   "metadata": {},
   "outputs": [],
   "source": [
    "World_dev.head()"
   ]
  },
  {
   "cell_type": "code",
   "execution_count": null,
   "id": "constitutional-morgan",
   "metadata": {},
   "outputs": [],
   "source": [
    "World_dev=World_dev.sort_values(by='CountryCode', ascending=True)"
   ]
  },
  {
   "cell_type": "code",
   "execution_count": null,
   "id": "sufficient-request",
   "metadata": {},
   "outputs": [],
   "source": [
    "World_dev"
   ]
  },
  {
   "cell_type": "code",
   "execution_count": null,
   "id": "latter-store",
   "metadata": {},
   "outputs": [],
   "source": [
    "connect = \"postgres:postgres@localhost:5432/World_dev\"\n",
    "engine = create_engine(f'postgresql://{connect}')"
   ]
  },
  {
   "cell_type": "code",
   "execution_count": null,
   "id": "caroline-storm",
   "metadata": {},
   "outputs": [],
   "source": [
    "engine.table_names()"
   ]
  },
  {
   "cell_type": "code",
   "execution_count": null,
   "id": "cognitive-kennedy",
   "metadata": {},
   "outputs": [],
   "source": [
    "World_dev.to_sql(name='world_development_indicators', con=engine, if_exists='append', index=False)"
   ]
  }
 ],
 "metadata": {
  "kernelspec": {
   "display_name": "Python 3",
   "language": "python",
   "name": "python3"
  },
  "language_info": {
   "codemirror_mode": {
    "name": "ipython",
    "version": 3
   },
   "file_extension": ".py",
   "mimetype": "text/x-python",
   "name": "python",
   "nbconvert_exporter": "python",
   "pygments_lexer": "ipython3",
   "version": "3.8.8"
  }
 },
 "nbformat": 4,
 "nbformat_minor": 5
}
